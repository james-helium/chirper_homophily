{
 "cells": [
  {
   "cell_type": "code",
   "execution_count": null,
   "metadata": {},
   "outputs": [],
   "source": [
    "# initiate all functions\n",
    "\n",
    "import requests\n",
    "import json\n",
    "import pandas as pd\n",
    "import numpy as np\n",
    "\n",
    "\n",
    "def get_response(username, type=\"chirp\", limit=100):\n",
    "    payload = json.dumps({\"username\": username, \"limit\": limit})\n",
    "    headers = {\n",
    "        \"Content-Type\": \"application/json\",\n",
    "        \"Cookie\": \"connect.sid=s%3AMykdjjS1VjZZOaQyIT7RhYG214TTMr8N.jIXuF6J9VFJrsGtqDp2Mfw41mBV14uGIyKbqXruSo68\",\n",
    "    }\n",
    "    url = f\"https://api.chirper.ai/v1/{type}\"\n",
    "    response = requests.request(\"GET\", url, headers=headers, data=payload)\n",
    "    if response.status_code == 200:\n",
    "        # turn response text into json\n",
    "        return json.loads(response.text)\n",
    "    else:\n",
    "        return {}\n",
    "\n",
    "\n",
    "def get_chirps(username, limit=100):\n",
    "    json_response = get_response(username, type=\"chirp\", limit=limit)\n",
    "    if len(json_response) == 0:\n",
    "        return []\n",
    "    else:\n",
    "        return json_response[\"result\"][\"chirps\"]"
   ]
  },
  {
   "attachments": {},
   "cell_type": "markdown",
   "metadata": {},
   "source": [
    "# Get language and sample chirps"
   ]
  },
  {
   "cell_type": "code",
   "execution_count": null,
   "metadata": {},
   "outputs": [],
   "source": [
    "# get the unique chirpers\n",
    "chirper_following_df = pd.read_csv(\"data/networks/full_following_network.csv\")\n",
    "all_unique_chirpers = list(\n",
    "    set(chirper_following_df[[\"source\", \"target\"]].values.flatten())\n",
    ")\n",
    "len(all_unique_chirpers)"
   ]
  },
  {
   "cell_type": "code",
   "execution_count": null,
   "metadata": {},
   "outputs": [],
   "source": [
    "# create a chirper dataframe\n",
    "chirper_df = pd.DataFrame(index=all_unique_chirpers, columns=[\"lang\", \"sample_chirps\"])\n",
    "searched_chirper_df = pd.read_csv(\"data/chirper_data.csv\", index_col=0)\n",
    "chirper_df.update(searched_chirper_df)"
   ]
  },
  {
   "cell_type": "code",
   "execution_count": null,
   "metadata": {},
   "outputs": [],
   "source": [
    "# sample 10 chirps of each chirper, if it hasnt been done already\n",
    "from random import sample\n",
    "\n",
    "for idx, this_user in enumerate(all_unique_chirpers):\n",
    "    if chirper_df.loc[this_user, \"lang\"] is not np.nan:\n",
    "        if idx % 100 == 0:\n",
    "            print(idx, end=\" \")\n",
    "        continue\n",
    "    else:\n",
    "        their_chirps = get_chirps(this_user, 100)\n",
    "\n",
    "        if len(their_chirps) == 0:\n",
    "            chirper_df.loc[this_user, \"lang\"] = \"NO RESPONSE\"\n",
    "            chirper_df.loc[this_user, \"sample_chirps\"] = \"NO RESPONSE\"\n",
    "        else:\n",
    "            their_lang = (\n",
    "                pd.Series([str(chirp[\"lang\"]) for chirp in their_chirps])\n",
    "                .value_counts()\n",
    "                .keys()[0]\n",
    "            )\n",
    "            if their_lang in [\"None\", \"nan\", \"\", \"NA\", \"NaN\"]:\n",
    "                their_lang = \"NO RESPONSE\"\n",
    "\n",
    "            if len(their_chirps) > 10:\n",
    "                their_chirps = sample(their_chirps, 10)\n",
    "            their_chirps = [chirp[\"content\"] for chirp in their_chirps]\n",
    "\n",
    "            chirper_df.loc[this_user, \"lang\"] = their_lang\n",
    "            chirper_df.loc[this_user, \"sample_chirps\"] = \" \".join(their_chirps)\n",
    "        if idx % 100 == 0:\n",
    "            print(idx, end=\" \")"
   ]
  },
  {
   "cell_type": "code",
   "execution_count": null,
   "metadata": {},
   "outputs": [],
   "source": [
    "# save to csv\n",
    "chirper_df = chirper_df.reset_index().rename(columns={\"index\": \"chirper\"})\n",
    "chirper_df.to_csv('data/chirper_data.csv', index=False)\n",
    "chirper_df"
   ]
  },
  {
   "cell_type": "code",
   "execution_count": null,
   "metadata": {},
   "outputs": [],
   "source": [
    "chirper_df.lang.value_counts()"
   ]
  }
 ],
 "metadata": {
  "kernelspec": {
   "display_name": "base",
   "language": "python",
   "name": "python3"
  },
  "language_info": {
   "codemirror_mode": {
    "name": "ipython",
    "version": 3
   },
   "file_extension": ".py",
   "mimetype": "text/x-python",
   "name": "python",
   "nbconvert_exporter": "python",
   "pygments_lexer": "ipython3",
   "version": "3.11.3"
  },
  "orig_nbformat": 4
 },
 "nbformat": 4,
 "nbformat_minor": 2
}
