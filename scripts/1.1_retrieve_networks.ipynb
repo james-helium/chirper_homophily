{
 "cells": [
  {
   "attachments": {},
   "cell_type": "markdown",
   "metadata": {},
   "source": [
    "# Initialise"
   ]
  },
  {
   "cell_type": "code",
   "execution_count": null,
   "metadata": {},
   "outputs": [],
   "source": [
    "# initiate all functions\n",
    "\n",
    "import requests\n",
    "import json\n",
    "import pandas as pd\n",
    "import numpy as np\n",
    "import re\n",
    "\n",
    "\n",
    "def get_response(username, type=\"chirp\", limit=100):\n",
    "    payload = json.dumps({\"username\": username, \"limit\": limit})\n",
    "    headers = {\n",
    "        \"Content-Type\": \"application/json\",\n",
    "        \"Cookie\": \"connect.sid=s%3AMykdjjS1VjZZOaQyIT7RhYG214TTMr8N.jIXuF6J9VFJrsGtqDp2Mfw41mBV14uGIyKbqXruSo68\",\n",
    "    }\n",
    "    url = f\"https://api.chirper.ai/v1/{type}\"\n",
    "    response = requests.request(\"GET\", url, headers=headers, data=payload)\n",
    "    if response.status_code == 200:\n",
    "        try:\n",
    "            return json.loads(response.text)\n",
    "        except json.decoder.JSONDecodeError:\n",
    "            return {}\n",
    "    else:\n",
    "        return {}\n",
    "\n",
    "\n",
    "def get_activities(username, limit=100):\n",
    "    json_response = get_response(username, type=\"activity\", limit=limit)\n",
    "    if len(json_response) == 0:\n",
    "        return []\n",
    "    else:\n",
    "        return json_response[\"result\"][\"activities\"]\n",
    "\n",
    "\n",
    "def get_chirps(username, limit=100):\n",
    "    json_response = get_response(username, type=\"chirp\", limit=limit)\n",
    "    if len(json_response) == 0:\n",
    "        return []\n",
    "    else:\n",
    "        return json_response[\"result\"][\"chirps\"]\n",
    "\n",
    "\n",
    "def get_mentions(their_chirps_raw):\n",
    "    their_mentions = []\n",
    "    timestamps = []\n",
    "    for chirp in their_chirps_raw:\n",
    "        content = chirp[\"content\"]\n",
    "        mentions = re.findall(r\"@\\w+\", content)\n",
    "        mentions = [mention.rstrip(\".\").rstrip(\",\").lstrip(\"@\") for mention in mentions]\n",
    "        if len(mentions) > 0:\n",
    "            timestamps += [chirp[\"createdAt\"]] * len(mentions)\n",
    "            their_mentions += mentions\n",
    "    return their_mentions, timestamps\n",
    "\n",
    "\n",
    "def get_engagement_df(chirper):\n",
    "    its_activities = get_activities(chirper, limit=1000)\n",
    "\n",
    "    its_mentions, its_mention_timestamps = get_mentions(get_chirps(chirper, limit=1000))\n",
    "    its_likes = []\n",
    "    its_dislikes = []\n",
    "    its_reaction_timestamps = []\n",
    "    for act in its_activities:\n",
    "        if \"to\" in act.keys():\n",
    "            if act[\"activity\"] == \"like\":\n",
    "                its_likes += [act[\"to\"][\"username\"]]\n",
    "                its_reaction_timestamps += [act[\"createdAt\"]]\n",
    "            elif act[\"activity\"] == \"dislike\":\n",
    "                its_dislikes += [act[\"to\"][\"username\"]]\n",
    "                its_reaction_timestamps += [act[\"createdAt\"]]\n",
    "\n",
    "    targets = its_mentions + its_likes + its_dislikes + [\"NA\"]\n",
    "    engagement_type = (\n",
    "        [\"mention\"] * len(its_mentions)\n",
    "        + [\"like\"] * len(its_likes)\n",
    "        + [\"dislike\"] * len(its_dislikes)\n",
    "        + [\"NA\"]\n",
    "    )\n",
    "    timestamp = its_mention_timestamps + its_reaction_timestamps + [\"NA\"]\n",
    "\n",
    "    its_engagemnt_df = pd.DataFrame(\n",
    "        {\n",
    "            \"source\": chirper,\n",
    "            \"target\": targets,\n",
    "            \"engagement_type\": engagement_type,\n",
    "            \"timestamp\": timestamp,\n",
    "        }\n",
    "    )\n",
    "\n",
    "    return its_engagemnt_df"
   ]
  },
  {
   "cell_type": "code",
   "execution_count": null,
   "metadata": {},
   "outputs": [],
   "source": [
    "# get a list of all users to start our search from\n",
    "raw_activities = get_activities(\"\", 1000)\n",
    "raw_users = [\n",
    "    act[\"from\"][\"username\"]\n",
    "    for act in raw_activities\n",
    "    if \"from\" in act.keys() and \"username\" in act[\"from\"].keys()\n",
    "]\n",
    "raw_users = list(set(raw_users))\n",
    "len(raw_users)"
   ]
  },
  {
   "cell_type": "code",
   "execution_count": null,
   "metadata": {},
   "outputs": [],
   "source": [
    "# add the users we've already searched\n",
    "full_engagement_network = pd.read_csv(\"data/full_engagement_network.csv\")\n",
    "raw_users += list(full_engagement_network[\"source\"].unique())\n",
    "raw_users += list(full_engagement_network[\"target\"].unique())\n",
    "raw_users = list(set(raw_users))\n",
    "len(raw_users)"
   ]
  },
  {
   "attachments": {},
   "cell_type": "markdown",
   "metadata": {},
   "source": [
    "# Retrieve Engagement Network"
   ]
  },
  {
   "attachments": {},
   "cell_type": "markdown",
   "metadata": {},
   "source": [
    "## Get all raw engagements"
   ]
  },
  {
   "cell_type": "code",
   "execution_count": null,
   "metadata": {},
   "outputs": [],
   "source": [
    "full_sample = raw_users.copy()\n",
    "for idx, chirper in enumerate(full_sample):\n",
    "    if idx % 100 == 0:\n",
    "        print(idx, end=\" \")\n",
    "    if idx % 1000 == 0:\n",
    "        print(\"\")\n",
    "        full_engagement_network = full_engagement_network.reset_index(drop=True)\n",
    "        full_engagement_network.to_csv(\"data/full_engagement_network.csv\")\n",
    "    if chirper in set(full_engagement_network.source):\n",
    "        continue\n",
    "    else:\n",
    "        its_engagemnt_df = get_engagement_df(chirper)\n",
    "        full_engagement_network = pd.concat([full_engagement_network, its_engagemnt_df])"
   ]
  },
  {
   "cell_type": "code",
   "execution_count": null,
   "metadata": {},
   "outputs": [],
   "source": [
    "# remove chinese characters in target if target has english characters\n",
    "full_engagement_network[\"target\"] = full_engagement_network[\"target\"].apply(\n",
    "    lambda x: np.NaN\n",
    "    if pd.isnull(x)\n",
    "    else x\n",
    "    if re.search(\"[a-zA-Z]\", str(x)) is None\n",
    "    else re.sub(r\"[\\u4e00-\\u9fff]+\", \"\", str(x))\n",
    ")\n",
    "# drop na\n",
    "full_engagement_network = full_engagement_network.dropna().reset_index(drop=True).copy()\n",
    "full_engagement_network.to_csv(\"data/full_engagement_network.csv\", index=False)"
   ]
  }
 ],
 "metadata": {
  "kernelspec": {
   "display_name": "base",
   "language": "python",
   "name": "python3"
  },
  "language_info": {
   "codemirror_mode": {
    "name": "ipython",
    "version": 3
   },
   "file_extension": ".py",
   "mimetype": "text/x-python",
   "name": "python",
   "nbconvert_exporter": "python",
   "pygments_lexer": "ipython3",
   "version": "3.11.3"
  },
  "orig_nbformat": 4
 },
 "nbformat": 4,
 "nbformat_minor": 2
}
